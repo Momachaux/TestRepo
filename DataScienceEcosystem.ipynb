{
 "cells": [
  {
   "cell_type": "markdown",
   "id": "b0cc31a2-7a66-4f80-8582-b23a03436f1f",
   "metadata": {},
   "source": [
    "### Data Science Tools and Ecosystem ###"
   ]
  },
  {
   "cell_type": "markdown",
   "id": "b767b0df-1c45-4768-9fb5-0ffc999a63c0",
   "metadata": {},
   "source": [
    "In this notebook, Data Science Tools and Ecosystem are summarized."
   ]
  },
  {
   "cell_type": "markdown",
   "id": "136e0938-89c2-4bb7-8710-611ff8799eea",
   "metadata": {},
   "source": [
    "#### Objectives: ####\n",
    "* Popular programming languages\n",
    "* Commonly Used Data Science Libraries\n",
    "* Open source Data Science Tools\n",
    "* Arithmetic expressions in Python"
   ]
  },
  {
   "cell_type": "markdown",
   "id": "19134b2f-54e7-4432-bf6a-2b32c3782d73",
   "metadata": {},
   "source": [
    "Some to the popular languages that Data Scientis use are:"
   ]
  },
  {
   "cell_type": "markdown",
   "id": "eaf7e5e4-659c-4e37-af2f-9ba03cbdd8fc",
   "metadata": {},
   "source": [
    "1. Python\n",
    "2. C++\n",
    "3. Java\n",
    "4. R\n",
    "5. SQL"
   ]
  },
  {
   "cell_type": "markdown",
   "id": "f8f3e7bd-ba7d-4839-839d-1d722b473072",
   "metadata": {},
   "source": [
    "Some of the commonly used libraries by Data Scientists include:"
   ]
  },
  {
   "cell_type": "markdown",
   "id": "e127a340-e356-49c9-83cb-4b04178e0f06",
   "metadata": {},
   "source": [
    "* NumPy\n",
    "* SciPy\n",
    "* MatPlotLib\n",
    "* Scikit-Learn\n",
    "* PyTorch"
   ]
  },
  {
   "cell_type": "markdown",
   "id": "b2f421c0-daa3-4e3c-b2f7-27f81a136623",
   "metadata": {},
   "source": [
    "### Below are a few examples of evaluating arithmetic expressions in PYthon. ###"
   ]
  },
  {
   "cell_type": "code",
   "execution_count": 5,
   "id": "713e6ae1-028a-4066-a022-9e13a3406110",
   "metadata": {},
   "outputs": [
    {
     "data": {
      "text/plain": [
       "17"
      ]
     },
     "execution_count": 5,
     "metadata": {},
     "output_type": "execute_result"
    }
   ],
   "source": [
    "#This is a simple arithmetic expression to multiply then add integers.\n",
    "(3*4)+5"
   ]
  },
  {
   "cell_type": "code",
   "execution_count": 6,
   "id": "839fa255-dfd5-4540-a70c-35263495e563",
   "metadata": {},
   "outputs": [
    {
     "data": {
      "text/plain": [
       "3.3333333333333335"
      ]
     },
     "execution_count": 6,
     "metadata": {},
     "output_type": "execute_result"
    }
   ],
   "source": [
    "#This will convert 200 minutes to hours by dividing by 60.\n",
    "200/60"
   ]
  },
  {
   "cell_type": "markdown",
   "id": "78027bc7-0175-41f8-b6c5-ab766bf6a338",
   "metadata": {},
   "source": [
    "## Author\n",
    "Elaine Robichaux"
   ]
  },
  {
   "cell_type": "code",
   "execution_count": null,
   "id": "da0754f8-6e64-4de2-af9d-63e1917d90d2",
   "metadata": {},
   "outputs": [],
   "source": []
  }
 ],
 "metadata": {
  "kernelspec": {
   "display_name": "Python 3 (ipykernel)",
   "language": "python",
   "name": "python3"
  },
  "language_info": {
   "codemirror_mode": {
    "name": "ipython",
    "version": 3
   },
   "file_extension": ".py",
   "mimetype": "text/x-python",
   "name": "python",
   "nbconvert_exporter": "python",
   "pygments_lexer": "ipython3",
   "version": "3.12.8"
  }
 },
 "nbformat": 4,
 "nbformat_minor": 5
}
